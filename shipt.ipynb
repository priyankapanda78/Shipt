{
 "cells": [
  {
   "cell_type": "markdown",
   "metadata": {},
   "source": [
    "#### UI Automation of Feature - StoreView based on zip code  "
   ]
  },
  {
   "cell_type": "code",
   "execution_count": 1,
   "metadata": {},
   "outputs": [],
   "source": [
    "from selenium import webdriver\n",
    "from selenium.webdriver.common.keys import Keys\n",
    "import time\n",
    "import requests\n",
    "from bs4 import BeautifulSoup\n",
    "import os\n",
    "import pandas as pd\n",
    "\n",
    "chromedriver = \"/Applications/chromedriver\" # path to the chromedriver executable\n",
    "os.environ[\"webdriver.chrome.driver\"] = chromedriver\n",
    "url = \"https://www.shipt.com\"\n",
    "driver = webdriver.Chrome(chromedriver)\n",
    "driver.get(url)"
   ]
  },
  {
   "cell_type": "code",
   "execution_count": 2,
   "metadata": {},
   "outputs": [],
   "source": [
    "#Login button on homepage\n",
    "login=driver.find_element_by_xpath('//a[contains(@href, \"https://shop.shipt.com/#/app/home\") and @class=\"button-secondary\"]')\n",
    "login.click()\n",
    "time.sleep(2)"
   ]
  },
  {
   "cell_type": "code",
   "execution_count": 3,
   "metadata": {},
   "outputs": [],
   "source": [
    "#Input for username and password is given\n",
    "username = driver.find_element_by_id(\"username\")\n",
    "password = driver.find_element_by_id(\"password\")\n",
    "username.send_keys(\"priyanka.panda78@gmail.com\")\n",
    "password.send_keys(\"testuser123\")\n",
    "time.sleep(2)\n"
   ]
  },
  {
   "cell_type": "code",
   "execution_count": 4,
   "metadata": {},
   "outputs": [],
   "source": [
    "#Click on Login Button\n",
    "driver.find_element_by_xpath(\"//button[contains(text(),'Log In')]\").click()\n",
    "time.sleep(2)"
   ]
  },
  {
   "cell_type": "code",
   "execution_count": 5,
   "metadata": {},
   "outputs": [],
   "source": [
    "#Click on StoreView button\n",
    "driver.find_element_by_xpath(\"//button[@data-test='ShoppingStoreSelect-storeView']\").click()\n",
    "time.sleep(3)"
   ]
  },
  {
   "cell_type": "code",
   "execution_count": 6,
   "metadata": {},
   "outputs": [
    {
     "name": "stdout",
     "output_type": "stream",
     "text": [
      "5\n"
     ]
    }
   ],
   "source": [
    "#validating there are more than 0 stores for the selected address\n",
    "stores = driver.find_elements_by_xpath(\"//div[@data-test='ChooseStore-store']\")\n",
    "print (len(stores))\n",
    "assert (len(stores) > 0)\n",
    "time.sleep(2)"
   ]
  },
  {
   "cell_type": "code",
   "execution_count": 7,
   "metadata": {},
   "outputs": [],
   "source": [
    "#Store is selected\n",
    "stores[len(stores)-1].click()\n",
    "time.sleep(3)"
   ]
  },
  {
   "cell_type": "code",
   "execution_count": 8,
   "metadata": {},
   "outputs": [
    {
     "name": "stdout",
     "output_type": "stream",
     "text": [
      "10\n"
     ]
    }
   ],
   "source": [
    "#Validating the items are displayed \"On Sale\" section\n",
    "items = driver.find_elements_by_xpath(\"//section[@id='shelfIndex-0-On Sale']//li\")\n",
    "print (len(items))\n",
    "assert (len(items) > 0)\n",
    "time.sleep(2)"
   ]
  },
  {
   "cell_type": "code",
   "execution_count": 9,
   "metadata": {},
   "outputs": [],
   "source": [
    "#Click on the Store select button and choose a different address from dropdown\n",
    "driver.find_element_by_xpath(\"//button[@data-test='ShoppingStoreSelect-storeView']\").click()\n",
    "driver.find_element_by_id(\"SelectAddress-select-selected-option-label\").click()\n",
    "time.sleep(2)"
   ]
  },
  {
   "cell_type": "code",
   "execution_count": 10,
   "metadata": {},
   "outputs": [],
   "source": [
    "#Clicked on a saved address from the dropdown\n",
    "driver.find_element_by_id(\"dropdown_option_1\").click()\n",
    "time.sleep(3)"
   ]
  },
  {
   "cell_type": "code",
   "execution_count": 11,
   "metadata": {},
   "outputs": [
    {
     "name": "stdout",
     "output_type": "stream",
     "text": [
      "4\n"
     ]
    }
   ],
   "source": [
    "#Total number of stores are displayed and are more than 0 in count\n",
    "stores = driver.find_elements_by_xpath(\"//div[@data-test='ChooseStore-store']\")\n",
    "print (len(stores))\n",
    "assert (len(stores) > 0)\n",
    "time.sleep(2)"
   ]
  },
  {
   "cell_type": "code",
   "execution_count": 12,
   "metadata": {},
   "outputs": [],
   "source": [
    "#Store is selected\n",
    "stores[len(stores)-1].click()\n",
    "time.sleep(3)"
   ]
  },
  {
   "cell_type": "code",
   "execution_count": 13,
   "metadata": {},
   "outputs": [
    {
     "name": "stdout",
     "output_type": "stream",
     "text": [
      "10\n"
     ]
    }
   ],
   "source": [
    "#Validating the items are displayed \"On Sale\" section\n",
    "items = driver.find_elements_by_xpath(\"//section[@id='shelfIndex-0-On Sale']//li\")\n",
    "print (len(items))\n",
    "assert (len(items) > 0)\n",
    "time.sleep(2)"
   ]
  },
  {
   "cell_type": "code",
   "execution_count": 14,
   "metadata": {},
   "outputs": [],
   "source": [
    "#Click on the Addresses button\n",
    "driver.find_element_by_xpath(\"//a[@href='/account/addresses']\").click()\n",
    "time.sleep(2)"
   ]
  },
  {
   "cell_type": "code",
   "execution_count": 15,
   "metadata": {},
   "outputs": [],
   "source": [
    "#Click on Add Address button\n",
    "driver.find_element_by_xpath(\"//button[contains(text(),'Add Address')]\").click()\n",
    "time.sleep(2)"
   ]
  },
  {
   "cell_type": "code",
   "execution_count": 16,
   "metadata": {},
   "outputs": [],
   "source": [
    "#Input given for Address autocomplete\n",
    "address = driver.find_element_by_id(\"AddressForm-autocomplete\")\n",
    "address.send_keys(\"203 Parkcrest Way, Riverton, WY 82501\")"
   ]
  },
  {
   "cell_type": "code",
   "execution_count": 17,
   "metadata": {},
   "outputs": [],
   "source": [
    "#Input for the street field\n",
    "street = driver.find_element_by_id(\"adr-street1\")\n",
    "street.send_keys(\"203 Parkcrest Way\")"
   ]
  },
  {
   "cell_type": "code",
   "execution_count": 18,
   "metadata": {},
   "outputs": [],
   "source": [
    "#Input for the city field\n",
    "city = driver.find_element_by_id(\"adr-city\")\n",
    "city.send_keys(\"Riverton\")"
   ]
  },
  {
   "cell_type": "code",
   "execution_count": 19,
   "metadata": {},
   "outputs": [],
   "source": [
    "#Input for the state field\n",
    "state = driver.find_element_by_id(\"adr-state\")\n",
    "state.send_keys(\"WY\")"
   ]
  },
  {
   "cell_type": "code",
   "execution_count": 20,
   "metadata": {},
   "outputs": [],
   "source": [
    "#Input for the zipcode field\n",
    "zipcode = driver.find_element_by_id(\"adr-zip\")\n",
    "zipcode.send_keys(\"82501\")"
   ]
  },
  {
   "cell_type": "code",
   "execution_count": 21,
   "metadata": {},
   "outputs": [],
   "source": [
    "#Click on the submit button\n",
    "driver.find_element_by_xpath(\"//button[@data-test='AddressForm-submit-button']\").click()\n",
    "time.sleep(3)"
   ]
  },
  {
   "cell_type": "code",
   "execution_count": 22,
   "metadata": {},
   "outputs": [
    {
     "name": "stdout",
     "output_type": "stream",
     "text": [
      "Zip code not in service area\n"
     ]
    }
   ],
   "source": [
    "#Capturing the error message\n",
    "error = driver.find_element_by_xpath(\"//div[contains(@class, 'AddressForm-zipCodeWrapper')]//span[@data-test='Input-error']\")\n",
    "print(error.text)"
   ]
  },
  {
   "cell_type": "code",
   "execution_count": 23,
   "metadata": {},
   "outputs": [],
   "source": [
    "#Validating the error message\n",
    "assert error.text == 'Zip code not in service area'\n"
   ]
  },
  {
   "cell_type": "code",
   "execution_count": null,
   "metadata": {},
   "outputs": [],
   "source": []
  }
 ],
 "metadata": {
  "kernelspec": {
   "display_name": "Python 3",
   "language": "python",
   "name": "python3"
  },
  "language_info": {
   "codemirror_mode": {
    "name": "ipython",
    "version": 3
   },
   "file_extension": ".py",
   "mimetype": "text/x-python",
   "name": "python",
   "nbconvert_exporter": "python",
   "pygments_lexer": "ipython3",
   "version": "3.6.4"
  }
 },
 "nbformat": 4,
 "nbformat_minor": 2
}
